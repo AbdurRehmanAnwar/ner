{
 "cells": [
  {
   "cell_type": "code",
   "execution_count": 1,
   "metadata": {},
   "outputs": [],
   "source": [
    "import numpy as np\n",
    "\n",
    "from itertools import chain\n",
    "\n",
    "import sklearn\n",
    "import scipy.stats\n",
    "from sklearn.model_selection import train_test_split\n",
    "from sklearn.metrics import classification_report\n",
    "from sklearn.metrics import make_scorer\n",
    "from sklearn.model_selection import RandomizedSearchCV\n",
    "\n",
    "import sklearn_crfsuite\n",
    "from sklearn_crfsuite import scorers\n",
    "from sklearn_crfsuite import metrics\n",
    "\n",
    "%matplotlib inline\n",
    "import matplotlib.pyplot as plt\n",
    "plt.style.use('ggplot')\n",
    "\n",
    "from joblib import dump, load"
   ]
  },
  {
   "cell_type": "code",
   "execution_count": 2,
   "metadata": {},
   "outputs": [],
   "source": [
    "# extract label of each token         \n",
    "def extractNEs(filename, data):\n",
    "    texts = []\n",
    "    infile = open(filename, \"r\", encoding=\"utf-8-sig\")\n",
    "    lines = infile.readlines()\n",
    "    \n",
    "    # loop through each token\n",
    "    for line in lines:\n",
    "        if line.strip(\"\\n\"):\n",
    "            word,pos,label = line.strip(\"\\n\").split('\\t')\n",
    "            texts.append((word,pos,label))\n",
    "        else: # end of sentence\n",
    "            data.append(texts)\n",
    "            texts = []\n",
    "    infile.close()"
   ]
  },
  {
   "cell_type": "code",
   "execution_count": 3,
   "metadata": {},
   "outputs": [],
   "source": [
    "def containDigit(token):\n",
    "    return any(char.isdigit() for char in token)\n",
    "\n",
    "def isPercent(token):\n",
    "    if '%' in token or 'yüzde' in token or 'binde' in token or 'onda' in token:\n",
    "        return True\n",
    "    return False\n",
    "\n",
    "def isTime(token):\n",
    "    if 'saat' in token:\n",
    "        return True\n",
    "    ########################\n",
    "    elif ':' in token:\n",
    "        splittedWord = token.split(':')\n",
    "        if containDigit(splittedWord[0]) and containDigit(splittedWord[1]):\n",
    "            return True\n",
    "    #######################\n",
    "    return False\n",
    "\n",
    "def checkCase(token):\n",
    "    if token.islower():\n",
    "        return 0\n",
    "    elif token.isupper():\n",
    "        return 1\n",
    "    elif token.istitle():\n",
    "        return 2\n",
    "    else:\n",
    "        return 3   \n",
    "    \n",
    "def word2features(doc, i):\n",
    "    word = doc[i][0]\n",
    "    postag = doc[i][1]\n",
    "\n",
    "    # Common features for all words\n",
    "    features = [\n",
    "        'bias',\n",
    "        'word.lower=%s' % word.lower(),\n",
    "        'word[-3:]=%s' % word[-3:],\n",
    "        'word[-4:]=%s' % word[-4:],\n",
    "        'word[:4]=%s' % word[:4],\n",
    "        'word[:5]=%s' % word[:5],\n",
    "        'word.case=%s' % checkCase(word),\n",
    "        'word.isnumeric=%s' % word.isnumeric(),\n",
    "        'word.containDigit=%s' % containDigit(word),\n",
    "        'postag=%s' % postag,\n",
    "        'word.isPercent=%s' % isPercent(word),\n",
    "        'word.isTime=%s' % isTime(word)\n",
    "    ]\n",
    "\n",
    "    # Features for words that are not\n",
    "    # at the beginning of a document\n",
    "    if i > 1:\n",
    "        word = doc[i-2][0]\n",
    "        postag = doc[i-2][1]\n",
    "        \n",
    "        features.extend([\n",
    "            '-2:word.lower=%s' % word.lower(),\n",
    "            '-2:word[-3:]=%s' % word[-3:],\n",
    "            '-2:word[-4:]=%s' % word[-4:],\n",
    "            '-2:word[:4]=%s' % word[:4],\n",
    "            '-2:word[:5]=%s' % word[:5],\n",
    "            '-2:word.case=%s' % checkCase(word),\n",
    "            '-2:word.isnumeric=%s' % word.isnumeric(),\n",
    "            '-2:word.containDigit=%s' % containDigit(word),\n",
    "            '-2:postag=%s' % postag,\n",
    "            '-2:word.isPercent=%s' % isPercent(word),\n",
    "            '-2:word.isTime=%s' % isTime(word)\n",
    "        ])\n",
    "        \n",
    "    if i > 0:\n",
    "        word = doc[i-1][0]\n",
    "        postag = doc[i-1][1]\n",
    "        \n",
    "        features.extend([\n",
    "            '-1:word.lower=%s' + word.lower(),\n",
    "            '-1:word[-3:]=%s' % word[-3:],\n",
    "            '-1:word[-4:]=%s' % word[-4:],\n",
    "            '-1:word[:4]=%s' % word[:4],\n",
    "            '-1:word[:5]=%s' % word[:5],\n",
    "            '-1:word.case=%s' % checkCase(word),\n",
    "            '-1:word.isnumeric=%s' % word.isnumeric(),\n",
    "            '-1:word.containDigit=%s' % containDigit(word),\n",
    "            '-1:postag=%s' % postag,\n",
    "            '-1:word.isPercent=%s' % isPercent(word),\n",
    "            '-1:word.isTime=%s' % isTime(word)\n",
    "        ])\n",
    "        \n",
    "    else:\n",
    "        # Indicate that it is the 'beginning of a document'\n",
    "        features.append('BOS')\n",
    "\n",
    "    # Features for words that are not\n",
    "    # at the end of a document\n",
    "    \n",
    "    if i < len(doc)-2:\n",
    "        word = doc[i+2][0]\n",
    "        postag = doc[i+2][1]     \n",
    "        \n",
    "        features.extend([\n",
    "            '+2:word.lower=%s' % word.lower(),\n",
    "            '+2:word[-3:]=%s' % word[-3:],\n",
    "            '+2:word[-4:]=%s' % word[-4:],\n",
    "            '+2:word[:4]=%s' % word[:4],\n",
    "            '+2:word[:5]=%s' % word[:5],\n",
    "            '+2:word.case=%s' % checkCase(word),\n",
    "            '+2:word.isnumeric=%s' % word.isnumeric(),\n",
    "            '+2:word.containDigit=%s' % containDigit(word),\n",
    "            '+2:postag=%s' % postag,\n",
    "            '+2:word.isPercent=%s' % isPercent(word),\n",
    "            '+2:word.isTime=%s' % isTime(word)\n",
    "        ])      \n",
    "    \n",
    "    if i < len(doc)-1:\n",
    "        word = doc[i+1][0]\n",
    "        postag = doc[i+1][1]\n",
    "       \n",
    "        features.extend([\n",
    "            '+1:word.lower=%s' + word.lower(),\n",
    "            '+1:word[-3:]=%s' % word[-3:],\n",
    "            '+1:word[-4:]=%s' % word[-4:],\n",
    "            '+1:word[:4]=%s' % word[:4],\n",
    "            '+1:word[:5]=%s' % word[:5],\n",
    "            '+1:word.case=%s' % checkCase(word),\n",
    "            '+1:word.isnumeric=%s' % word.isnumeric(),\n",
    "            '+1:word.containDigit=%s' % containDigit(word),\n",
    "            '+1:postag=%s' % postag,\n",
    "            '+1:word.isPercent=%s' % isPercent(word),\n",
    "            '+1:word.isTime=%s' % isTime(word)\n",
    "        ])  \n",
    "        \n",
    "    else:\n",
    "        # Indicate that it is the 'end of a document'\n",
    "        features.append('EOS')\n",
    "\n",
    "    return features"
   ]
  },
  {
   "cell_type": "code",
   "execution_count": 4,
   "metadata": {},
   "outputs": [],
   "source": [
    "# A function for extracting features in documents\n",
    "def extract_features(sentence):\n",
    "    return [word2features(sentence, tokenIndex) for tokenIndex in range(len(sentence))]\n",
    "\n",
    "# A function fo generating the list of labels for each document\n",
    "def get_labels(sentence):\n",
    "    return [label for (token, postag, label) in sentence]"
   ]
  },
  {
   "cell_type": "code",
   "execution_count": 5,
   "metadata": {},
   "outputs": [],
   "source": [
    "def runCRF(X_train, y_train):\n",
    "    crf = sklearn_crfsuite.CRF(\n",
    "        algorithm='lbfgs', \n",
    "        c1=0.1, \n",
    "        c2=0.01, \n",
    "        max_iterations=100, \n",
    "        all_possible_transitions=True\n",
    "    )\n",
    "    crf.fit(X_train, y_train)\n",
    "    \n",
    "    return crf"
   ]
  },
  {
   "cell_type": "code",
   "execution_count": 6,
   "metadata": {},
   "outputs": [],
   "source": [
    "def calculateF1Score(y_test, y_pred):\n",
    "    metrics.flat_f1_score(y_test, y_pred, average='weighted', labels=labels)\n",
    "\n",
    "    sorted_labels = sorted(\n",
    "        labels, \n",
    "        key=lambda name: (name[1:], name[0])\n",
    "    )\n",
    "    print(metrics.flat_classification_report(\n",
    "        y_test, y_pred, labels=sorted_labels, digits=3\n",
    "    ))"
   ]
  },
  {
   "cell_type": "markdown",
   "metadata": {},
   "source": [
    "# First Option: 10-Fold Cross Validation"
   ]
  },
  {
   "cell_type": "code",
   "execution_count": null,
   "metadata": {},
   "outputs": [],
   "source": [
    "# extract training dataset\n",
    "data = []\n",
    "extractNEs(\"data/train.txt\", data)\n",
    "\n",
    "X = [extract_features(sentence) for sentence in data]\n",
    "y = [get_labels(sentence) for sentence in data]"
   ]
  },
  {
   "cell_type": "code",
   "execution_count": null,
   "metadata": {},
   "outputs": [],
   "source": [
    "%%time\n",
    "from sklearn.model_selection import KFold\n",
    "\n",
    "X = np.array(X)\n",
    "y = np.array(y)\n",
    "# prepare cross validation\n",
    "kfold = KFold(10, True, 1)\n",
    "j = 1\n",
    "# enumerate splits\n",
    "for train_index, test_index in kfold.split(X):\n",
    "    print(\"TRAIN:\", train_index, \"TEST:\", test_index)\n",
    "    X_train, X_test = X[train_index], X[test_index]\n",
    "    y_train, y_test = y[train_index], y[test_index]\n",
    "    \n",
    "    crf = runCRF(X_train, y_train)\n",
    "\n",
    "    labels = list(crf.classes_)\n",
    "    labels.remove('O')\n",
    "\n",
    "    y_pred = crf.predict(X_test)\n",
    "    \n",
    "    calculateF1Score(y_test, y_pred)\n",
    "    \n",
    "    filename = str(j) + \".fold.txt\"\n",
    "    j = j+1\n",
    "    \n",
    "    file = open(filename, \"w\", encoding=\"utf-8\")\n",
    "    for i in range(len(X_test)):\n",
    "        for label, pred, word in zip(y_test[i], y_pred[i], [x[1].split(\"=\")[1] for x in X_test[i]]):\n",
    "            s = \"%s\\t%s\\t%s\\n\" % (word, pred, label)\n",
    "            file.write(s)\n",
    "        file.write(\"\\n\")\n",
    "    file.close()\n",
    "    "
   ]
  },
  {
   "cell_type": "markdown",
   "metadata": {},
   "source": [
    "# Second Option: Use Train & Test Datasets"
   ]
  },
  {
   "cell_type": "code",
   "execution_count": 7,
   "metadata": {},
   "outputs": [],
   "source": [
    "# extract training dataset\n",
    "data = []\n",
    "extractNEs(\"data/train.txt\", data)\n",
    "\n",
    "X_train = [extract_features(sentence) for sentence in data]\n",
    "y_train = [get_labels(sentence) for sentence in data]"
   ]
  },
  {
   "cell_type": "code",
   "execution_count": 9,
   "metadata": {},
   "outputs": [],
   "source": [
    "crf = runCRF(X_train, y_train)"
   ]
  },
  {
   "cell_type": "markdown",
   "metadata": {},
   "source": [
    "# Save & Load The Model"
   ]
  },
  {
   "cell_type": "code",
   "execution_count": 9,
   "metadata": {},
   "outputs": [
    {
     "data": {
      "text/plain": [
       "['crf.joblib']"
      ]
     },
     "execution_count": 9,
     "metadata": {},
     "output_type": "execute_result"
    }
   ],
   "source": [
    "#SAVE THE MODEL\n",
    "dump(crf, 'crf.joblib') "
   ]
  },
  {
   "cell_type": "code",
   "execution_count": 11,
   "metadata": {},
   "outputs": [],
   "source": [
    "#LOAD THE MODEL\n",
    "crf = load('crf.joblib') "
   ]
  },
  {
   "cell_type": "code",
   "execution_count": 8,
   "metadata": {},
   "outputs": [],
   "source": [
    "# extract test dataset\n",
    "test_data = []\n",
    "extractNEs(\"data/test.txt\", test_data)\n",
    "\n",
    "X_test = [extract_features(sentence) for sentence in test_data]\n",
    "y_test = [get_labels(sentence) for sentence in test_data]"
   ]
  },
  {
   "cell_type": "code",
   "execution_count": 10,
   "metadata": {},
   "outputs": [
    {
     "name": "stdout",
     "output_type": "stream",
     "text": [
      "              precision    recall  f1-score   support\n",
      "\n",
      "        DATE      0.853     0.873     0.863       259\n",
      "     PERCENT      0.965     0.887     0.924       124\n",
      "      PERSON      0.918     0.907     0.912      1019\n",
      "        TIME      0.941     1.000     0.970        32\n",
      "    LOCATION      0.970     0.921     0.945       732\n",
      "       MONEY      1.000     0.937     0.967       127\n",
      "ORGANIZATION      0.969     0.872     0.918       822\n",
      "\n",
      "   micro avg      0.942     0.900     0.920      3115\n",
      "   macro avg      0.945     0.914     0.928      3115\n",
      "weighted avg      0.943     0.900     0.921      3115\n",
      "\n"
     ]
    }
   ],
   "source": [
    "labels = list(crf.classes_)\n",
    "labels.remove('O')\n",
    "\n",
    "y_pred = crf.predict(X_test)\n",
    "\n",
    "calculateF1Score(y_test, y_pred)"
   ]
  },
  {
   "cell_type": "markdown",
   "metadata": {},
   "source": [
    "# HYPERPARAMETER OPTIMIZATION"
   ]
  },
  {
   "cell_type": "code",
   "execution_count": 11,
   "metadata": {},
   "outputs": [
    {
     "name": "stdout",
     "output_type": "stream",
     "text": [
      "Fitting 3 folds for each of 50 candidates, totalling 150 fits\n"
     ]
    },
    {
     "name": "stderr",
     "output_type": "stream",
     "text": [
      "[Parallel(n_jobs=-1)]: Using backend LokyBackend with 12 concurrent workers.\n",
      "/usr/local/lib/python3.6/dist-packages/sklearn/externals/joblib/externals/loky/process_executor.py:706: UserWarning: A worker stopped while some jobs were given to the executor. This can be caused by a too short worker timeout or by a memory leak.\n",
      "  \"timeout or by a memory leak.\", UserWarning\n",
      "[Parallel(n_jobs=-1)]: Done  26 tasks      | elapsed: 23.0min\n",
      "[Parallel(n_jobs=-1)]: Done 150 out of 150 | elapsed: 126.2min finished\n"
     ]
    },
    {
     "name": "stdout",
     "output_type": "stream",
     "text": [
      "CPU times: user 2h 2min, sys: 4min 10s, total: 2h 6min 11s\n",
      "Wall time: 2h 7min 50s\n"
     ]
    }
   ],
   "source": [
    "%%time\n",
    "# HYPERPARAMETER OPTIMIZATION\n",
    "# define fixed parameters and parameters to search\n",
    "crf = sklearn_crfsuite.CRF(\n",
    "    algorithm='lbfgs', \n",
    "    max_iterations=100, \n",
    "    all_possible_transitions=True\n",
    ")\n",
    "params_space = {\n",
    "    'c1': scipy.stats.expon(scale=0.5),\n",
    "    'c2': scipy.stats.expon(scale=0.05),\n",
    "}\n",
    "\n",
    "# use the same metric for evaluation\n",
    "f1_scorer = make_scorer(metrics.flat_f1_score, \n",
    "                        average='weighted', labels=labels)\n",
    "\n",
    "# search\n",
    "rs = RandomizedSearchCV(crf, params_space, \n",
    "                        cv=3, \n",
    "                        verbose=1, \n",
    "                        n_jobs=-1, \n",
    "                        n_iter=50, \n",
    "                        scoring=f1_scorer)\n",
    "rs.fit(X_train, y_train)"
   ]
  },
  {
   "cell_type": "code",
   "execution_count": 12,
   "metadata": {},
   "outputs": [
    {
     "name": "stdout",
     "output_type": "stream",
     "text": [
      "best params: {'c1': 0.13468476285586248, 'c2': 0.03379284804608451}\n",
      "best CV score: 0.8848701730194322\n",
      "model size: 5.11M\n"
     ]
    }
   ],
   "source": [
    "print('best params:', rs.best_params_)\n",
    "print('best CV score:', rs.best_score_)\n",
    "print('model size: {:0.2f}M'.format(rs.best_estimator_.size_ / 1000000))"
   ]
  },
  {
   "cell_type": "code",
   "execution_count": 14,
   "metadata": {},
   "outputs": [
    {
     "name": "stdout",
     "output_type": "stream",
     "text": [
      "Dark blue => 0.8623, dark red => 0.8849\n"
     ]
    },
    {
     "data": {
      "image/png": "[encoded data removed]",
      "text/plain": [
       "<Figure size 864x864 with 1 Axes>"
      ]
     },
     "metadata": {
      "needs_background": "light"
     },
     "output_type": "display_data"
    }
   ],
   "source": [
    "# Check parameter space\n",
    "#_x = [s.parameters['c1'] for s in rs.grid_scores_]\n",
    "_x = [s.get('c1') for s in rs.cv_results_[\"params\"]]\n",
    "#_y = [s.parameters['c2'] for s in rs.grid_scores_]\n",
    "_y = [s.get('c2') for s in rs.cv_results_[\"params\"]]\n",
    "#_c = [s.mean_validation_score for s in rs.grid_scores_]\n",
    "_c = [s for s in rs.cv_results_[\"mean_test_score\"]]\n",
    "\n",
    "fig = plt.figure()\n",
    "fig.set_size_inches(12, 12)\n",
    "ax = plt.gca()\n",
    "ax.set_yscale('log')\n",
    "ax.set_xscale('log')\n",
    "ax.set_xlabel('C1')\n",
    "ax.set_ylabel('C2')\n",
    "ax.set_title(\"Randomized Hyperparameter Search CV Results (min={:0.3}, max={:0.3})\".format(\n",
    "    min(_c), max(_c)\n",
    "))\n",
    "\n",
    "ax.scatter(_x, _y, c=_c, s=60, alpha=0.9, edgecolors=[0,0,0])\n",
    "\n",
    "print(\"Dark blue => {:0.4}, dark red => {:0.4}\".format(min(_c), max(_c)))"
   ]
  },
  {
   "cell_type": "code",
   "execution_count": 16,
   "metadata": {},
   "outputs": [
    {
     "name": "stdout",
     "output_type": "stream",
     "text": [
      "              precision    recall  f1-score   support\n",
      "\n",
      "        DATE      0.880     0.846     0.862       259\n",
      "     PERCENT      0.965     0.887     0.924       124\n",
      "      PERSON      0.924     0.909     0.916      1019\n",
      "        TIME      0.914     1.000     0.955        32\n",
      "    LOCATION      0.967     0.915     0.940       732\n",
      "       MONEY      1.000     0.929     0.963       127\n",
      "ORGANIZATION      0.964     0.872     0.916       822\n",
      "\n",
      "   micro avg      0.945     0.896     0.920      3115\n",
      "   macro avg      0.945     0.908     0.925      3115\n",
      "weighted avg      0.946     0.896     0.920      3115\n",
      "\n"
     ]
    }
   ],
   "source": [
    "crf = rs.best_estimator_\n",
    "y_pred = crf.predict(X_test)\n",
    "calculateF1Score(y_test, y_pred)"
   ]
  },
  {
   "cell_type": "code",
   "execution_count": null,
   "metadata": {},
   "outputs": [],
   "source": []
  }
 ],
 "metadata": {
  "kernelspec": {
   "display_name": "Python 3",
   "language": "python",
   "name": "python3"
  },
  "language_info": {
   "codemirror_mode": {
    "name": "ipython",
    "version": 3
   },
   "file_extension": ".py",
   "mimetype": "text/x-python",
   "name": "python",
   "nbconvert_exporter": "python",
   "pygments_lexer": "ipython3",
   "version": "3.6.8"
  }
 },
 "nbformat": 4,
 "nbformat_minor": 2
}
